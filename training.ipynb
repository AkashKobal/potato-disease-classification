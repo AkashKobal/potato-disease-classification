{
 "cells": [
  {
   "cell_type": "code",
   "execution_count": null,
   "id": "e8e93a3d",
   "metadata": {},
   "outputs": [],
   "source": [
    "# importing the required modules\n",
    "import tensorflow as tf\n",
    "from tensorflow.keras import models, layers\n",
    "import matplotlib.pyplot as plt"
   ]
  },
  {
   "cell_type": "code",
   "execution_count": null,
   "id": "781ab0a3",
   "metadata": {},
   "outputs": [],
   "source": [
    "IMAGE_SIZE = 256\n",
    "BATCH_SIZE = 32"
   ]
  },
  {
   "cell_type": "code",
   "execution_count": null,
   "id": "1e1f8a62",
   "metadata": {},
   "outputs": [],
   "source": [
    "# importing the dataset(i,e all the images from directory)\n",
    "dataset = tf.keras.preprocessing.image_dataset_from_directory(\n",
    "\"PlantVillage\",\n",
    "image_size = (IMAGE_SIZE,IMAGE_SIZE),\n",
    "batch_size = BATCH_SIZE\n",
    ")"
   ]
  },
  {
   "cell_type": "code",
   "execution_count": null,
   "id": "28db913d",
   "metadata": {},
   "outputs": [],
   "source": [
    "#create a variable and assign all our image folders into it\n",
    "class_names = dataset.class_names #folder name are our class name\n",
    "class_names"
   ]
  },
  {
   "cell_type": "code",
   "execution_count": null,
   "id": "2f4dd057",
   "metadata": {},
   "outputs": [],
   "source": [
    "len(dataset)"
   ]
  },
  {
   "cell_type": "code",
   "execution_count": null,
   "id": "2f09e193",
   "metadata": {},
   "outputs": [],
   "source": [
    "dataset"
   ]
  },
  {
   "cell_type": "code",
   "execution_count": null,
   "id": "1ec3fe13",
   "metadata": {},
   "outputs": [],
   "source": [
    "#explore the dataset\n",
    "#dataset.take(1) takes the first one sample\n",
    "#dataset.take(10) takes the first ten sample\n",
    "for image_batch, label_batch in dataset.take(1):\n",
    "    print(image_batch[0]) # get the first image data in tensor\n",
    "\n",
    "#image_batch: Represents a batch of images from the dataset.\n",
    "#label_batch: Corresponds to the labels associated with the images in the batch.\n",
    "#The printed statement (print(image_batch[0])) outputs the data tensor of the first image in the batch"
   ]
  },
  {
   "cell_type": "code",
   "execution_count": null,
   "id": "3880cfdc",
   "metadata": {},
   "outputs": [],
   "source": [
    "for image_batch, label_batch in dataset.take(1):\n",
    "    print(image_batch[0].numpy())# convert tensor into numpy\n",
    "    #3D matrix array"
   ]
  },
  {
   "cell_type": "code",
   "execution_count": null,
   "id": "39faec32",
   "metadata": {},
   "outputs": [],
   "source": [
    "for image_batch, label_batch in dataset.take(1):\n",
    "    print(image_batch[0].shape)#get the shape of the dataset\n",
    "\n",
    "# 256, 256 is our image size and 3 is channel\n",
    "CHANNELS = 3"
   ]
  },
  {
   "cell_type": "code",
   "execution_count": null,
   "id": "c67fad6f",
   "metadata": {},
   "outputs": [],
   "source": [
    "#visualization of data\n",
    "for image_batch, label_batch in dataset.take(1):\n",
    "    plt.imshow(image_batch[0].numpy().astype(\"uint8\"))\n",
    "    # plt.imshow is used to visualize the image\n",
    "    #convert the image_bacth from tensor to numpy for visualzation\n",
    "    # and convert it into float to int\n",
    "    #randomly selecting the images\n",
    "    plt.axis(\"off\") # hide x and y-axis"
   ]
  },
  {
   "cell_type": "code",
   "execution_count": null,
   "id": "68145b8d",
   "metadata": {},
   "outputs": [],
   "source": [
    "#visualization of data\n",
    " #increase the size of the images\n",
    "plt.figure(figsize=(10,10))\n",
    "\n",
    "for image_batch, label_batch in dataset.take(1):\n",
    "    for i in range(12): # displaying the 12 images\n",
    "        ax = plt.subplot(3,4,i+1)\n",
    "        plt.imshow(image_batch[i].numpy().astype(\"uint8\"))\n",
    "        plt.title(class_names[label_batch[i]])# assigning the title by using index no. of the dataset\n",
    "        plt.axis(\"off\") # hide x and y-axis\n",
    "        \n",
    "\n"
   ]
  },
  {
   "cell_type": "code",
   "execution_count": null,
   "id": "93497ab6",
   "metadata": {},
   "outputs": [],
   "source": [
    "len(dataset)"
   ]
  },
  {
   "cell_type": "code",
   "execution_count": null,
   "id": "aa69b57a",
   "metadata": {},
   "outputs": [],
   "source": [
    "68*32 # 32 because each data is of 32 batch"
   ]
  },
  {
   "cell_type": "code",
   "execution_count": null,
   "id": "070bd3cd",
   "metadata": {},
   "outputs": [],
   "source": [
    "# split the data into train and test\n",
    "# 80% for training \n",
    "# 20 % for testing(in which 10 % for validation, 10% for test )\n",
    "# validation is used during the training process when we run epochs\n",
    "\n",
    "#lets try with 50 epochs\n",
    "EPOCHS = 50"
   ]
  },
  {
   "cell_type": "code",
   "execution_count": null,
   "id": "c38549c6",
   "metadata": {},
   "outputs": [],
   "source": [
    "train_size = 0.8\n",
    "len(dataset) * train_size\n"
   ]
  },
  {
   "cell_type": "code",
   "execution_count": null,
   "id": "3581b9ba",
   "metadata": {},
   "outputs": [],
   "source": [
    "#dataset.take(54) takes the first 54 sample\n",
    "train_ds = dataset.take(54)\n",
    "len(train_ds)"
   ]
  },
  {
   "cell_type": "code",
   "execution_count": null,
   "id": "49469f1e",
   "metadata": {},
   "outputs": [],
   "source": [
    "test_ds = dataset.skip(54) # skipping the first 54 dataset and getting the next 54 dataset\n",
    "len(test_ds)"
   ]
  },
  {
   "cell_type": "code",
   "execution_count": null,
   "id": "d46b7e38",
   "metadata": {},
   "outputs": [],
   "source": [
    "#  10 % for validation\n",
    "val_size = 0.1\n",
    "len(dataset) * val_size"
   ]
  },
  {
   "cell_type": "code",
   "execution_count": null,
   "id": "1b5b5b7d",
   "metadata": {},
   "outputs": [],
   "source": [
    "test_ds = test_ds.skip(6)\n",
    "len(test_ds) #actual test dataset"
   ]
  },
  {
   "cell_type": "code",
   "execution_count": null,
   "id": "961044df",
   "metadata": {},
   "outputs": [],
   "source": [
    "# putting all the above code in a proper function\n",
    "def get_dataset_partitions_tf(ds,train_split = 0.8, val_split = 0.1, test_split = 0.1,shuffle = True, shuffle_size = 10000):\n",
    "    ds_size = len(ds)\n",
    "    if shuffle:\n",
    "        #randomly shuffling the datset \n",
    "        ds = ds.shuffle(shuffle_size, seed = 12) #seed is because we should not get same images, seed may be anynumber\n",
    "        \n",
    "        train_size = int(train_split * ds_size) #convert into integer\n",
    "        val_size = int(val_split *  ds_size)\n",
    "        \n",
    "        train_ds = ds.take(train_size)\n",
    "        \n",
    "        val_ds = ds.skip(train_size).take(val_size) # first skip and then take the dataset\n",
    "        test_ds = ds.skip(train_size).take(val_size)\n",
    "        \n",
    "        return train_ds, val_ds, test_ds\n",
    "        "
   ]
  },
  {
   "cell_type": "code",
   "execution_count": null,
   "id": "0cb1116d",
   "metadata": {},
   "outputs": [],
   "source": [
    "train_ds, val_ds, test_ds =  get_dataset_partitions_tf(dataset)\n",
    "len(train_ds)\n"
   ]
  },
  {
   "cell_type": "code",
   "execution_count": null,
   "id": "4786d067",
   "metadata": {},
   "outputs": [],
   "source": [
    "len(val_ds)"
   ]
  },
  {
   "cell_type": "code",
   "execution_count": null,
   "id": "879fb00b",
   "metadata": {},
   "outputs": [],
   "source": [
    "len(test_ds)"
   ]
  },
  {
   "cell_type": "code",
   "execution_count": null,
   "id": "7f744132",
   "metadata": {},
   "outputs": [],
   "source": [
    "# train dataset = train_ds\n",
    "train_ds = train_ds.cache().shuffle(1000).prefetch(buffer_size = tf.data.AUTOTUNE) # first it will read the image from the disk and stores in the memory\n",
    "# prefetch will load next batch of the images, when current batch is bussy\n",
    "\n",
    "#validation dataset = val_ds\n",
    "val_ds = val_ds.cache().shuffle(1000).prefetch(buffer_size = tf.data.AUTOTUNE) # first it will read the image from the disk and stores in the memory\n",
    "#test dataset = test_ds\n",
    "test_ds = test_ds.cache().shuffle(1000).prefetch(buffer_size = tf.data.AUTOTUNE) # first it will read the image from the disk and stores in the memory\n"
   ]
  },
  {
   "cell_type": "code",
   "execution_count": null,
   "id": "91c27e76",
   "metadata": {},
   "outputs": [],
   "source": [
    "#resizing and rescaling the images\n",
    "resizing_and_rescaling = tf.keras.Sequential([\n",
    "    #resizing and rescaling each image layer\n",
    "    # .experimental is an API\n",
    "    \n",
    "    layers.experimental.preprocessing.Resizing(IMAGE_SIZE,IMAGE_SIZE),\n",
    "    layers.experimental.preprocessing.Rescaling(1.0/255)\n",
    "])"
   ]
  },
  {
   "cell_type": "code",
   "execution_count": null,
   "id": "dcd8da08",
   "metadata": {},
   "outputs": [],
   "source": [
    "data_augumentation =  tf.keras.Sequential([\n",
    "    # concert the image into horizontal and vertical (landsacpe and portrait )\n",
    "    layers.experimental.preprocessing.RandomFlip(\"horizontal_and_vertical\"),\n",
    "    layers.experimental.preprocessing.RandomRotation(0.2),\n",
    "])"
   ]
  },
  {
   "cell_type": "code",
   "execution_count": null,
   "id": "91d885fa",
   "metadata": {},
   "outputs": [],
   "source": [
    "from tensorflow.keras.layers import Conv2D, MaxPooling2D"
   ]
  },
  {
   "cell_type": "code",
   "execution_count": null,
   "id": "7b836b17",
   "metadata": {},
   "outputs": [],
   "source": []
  },
  {
   "cell_type": "code",
   "execution_count": null,
   "id": "d0871f57",
   "metadata": {},
   "outputs": [],
   "source": [
    "#Model Building CNN\n",
    "input_shape = (BATCH_SIZE, IMAGE_SIZE, IMAGE_SIZE, CHANNELS)\n",
    "n_classes = 3 # our no. of classes(folders) are three\n",
    "\n",
    "model = models.Sequential([\n",
    "    resizing_and_rescaling, # first resizing_and_rescaling\n",
    "    layers.Conv2D(32, kernel_size = (3,3), activation='relu', input_shape=input_shape),\n",
    "    layers.MaxPooling2D((2, 2)),\n",
    "    \n",
    "     # trial and error with neurons 32 and 64\n",
    "    layers.Conv2D(64,  kernel_size = (3,3), activation='relu'),\n",
    "    layers.MaxPooling2D((2, 2)),\n",
    "    layers.Conv2D(64,  kernel_size = (3,3), activation='relu'),\n",
    "    layers.MaxPooling2D((2, 2)),\n",
    "    layers.Conv2D(64, (3, 3), activation='relu'),\n",
    "    layers.MaxPooling2D((2, 2)),\n",
    "    layers.Conv2D(64, (3, 3), activation='relu'),\n",
    "    layers.MaxPooling2D((2, 2)),\n",
    "    layers.Conv2D(64, (3, 3), activation='relu'),\n",
    "    layers.MaxPooling2D((2, 2)),\n",
    "    \n",
    "     #after pooling we should do flatten the model\n",
    "    layers.Flatten(),\n",
    "    \n",
    "      #adding dense layer of 64 neurons\n",
    "    layers.Dense(64, activation='relu'),\n",
    "    \n",
    "    #     normalize the classes\n",
    "    # softmax normalize the probability of the classes\n",
    "    layers.Dense(n_classes, activation='softmax'),\n",
    "])\n",
    "\n",
    "model.build(input_shape=input_shape)"
   ]
  },
  {
   "cell_type": "code",
   "execution_count": null,
   "id": "fa98bf71",
   "metadata": {
    "scrolled": true
   },
   "outputs": [],
   "source": [
    "model.summary()"
   ]
  },
  {
   "cell_type": "code",
   "execution_count": null,
   "id": "2248ffd2",
   "metadata": {},
   "outputs": [],
   "source": [
    "from keras import utils as np_utils"
   ]
  },
  {
   "cell_type": "code",
   "execution_count": null,
   "id": "93c4492b",
   "metadata": {},
   "outputs": [],
   "source": [
    "model.compile(\n",
    "    optimizer='adam',\n",
    "    loss=tf.keras.losses.SparseCategoricalCrossentropy(from_logits=False),\n",
    "    metrics=['accuracy']\n",
    ")"
   ]
  },
  {
   "cell_type": "code",
   "execution_count": null,
   "id": "6cfc0ff1",
   "metadata": {},
   "outputs": [],
   "source": [
    "history = model.fit(\n",
    "    train_ds,\n",
    "    batch_size=BATCH_SIZE,\n",
    "    validation_data=val_ds,\n",
    "    verbose=1,\n",
    "    epochs=50,\n",
    ")\n",
    "# here we get the validation accuracy and accuracy of the model at each train\n",
    "# accuracy will be keep on increasing as we train"
   ]
  },
  {
   "cell_type": "code",
   "execution_count": null,
   "id": "238e98f7",
   "metadata": {
    "scrolled": true
   },
   "outputs": [],
   "source": [
    "#  model compling using optimizer, loss and metrics\n",
    "# model.compile(\n",
    "#     optimizer = 'adam',\n",
    "#      loss = tf.keras.utils.np_utils.to_categorical(from_logits = False),\n",
    "#     loss = tf.keras.losses.CategoricalCrossentropy(from_logits=True),\n",
    "#     metrics = ['accuracy']\n",
    "# )"
   ]
  },
  {
   "cell_type": "code",
   "execution_count": null,
   "id": "e43b4504",
   "metadata": {},
   "outputs": [],
   "source": [
    "# history = model.fit(\n",
    "#     train_ds,\n",
    "#     epochs = EPOCHS,\n",
    "#     batch_size = BATCH_SIZE,\n",
    "#     verbose = 1,\n",
    "#     validation_data = val_ds\n",
    "# )"
   ]
  },
  {
   "cell_type": "code",
   "execution_count": null,
   "id": "4ec86e33",
   "metadata": {},
   "outputs": [],
   "source": []
  },
  {
   "cell_type": "code",
   "execution_count": null,
   "id": "4e2e6d4e",
   "metadata": {},
   "outputs": [],
   "source": []
  }
 ],
 "metadata": {
  "kernelspec": {
   "display_name": "Python 3 (ipykernel)",
   "language": "python",
   "name": "python3"
  },
  "language_info": {
   "codemirror_mode": {
    "name": "ipython",
    "version": 3
   },
   "file_extension": ".py",
   "mimetype": "text/x-python",
   "name": "python",
   "nbconvert_exporter": "python",
   "pygments_lexer": "ipython3",
   "version": "3.11.5"
  }
 },
 "nbformat": 4,
 "nbformat_minor": 5
}
